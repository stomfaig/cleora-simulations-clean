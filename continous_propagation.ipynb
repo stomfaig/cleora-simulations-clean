{
 "cells": [
  {
   "cell_type": "code",
   "execution_count": 2,
   "metadata": {},
   "outputs": [
    {
     "name": "stderr",
     "output_type": "stream",
     "text": [
      "/home/gergo/.local/lib/python3.10/site-packages/tqdm/auto.py:22: TqdmWarning: IProgress not found. Please update jupyter and ipywidgets. See https://ipywidgets.readthedocs.io/en/stable/user_install.html\n",
      "  from .autonotebook import tqdm as notebook_tqdm\n"
     ]
    }
   ],
   "source": [
    "import torch\n",
    "from scipy import linalg"
   ]
  },
  {
   "cell_type": "code",
   "execution_count": 3,
   "metadata": {},
   "outputs": [],
   "source": [
    "n = 10"
   ]
  },
  {
   "cell_type": "code",
   "execution_count": 4,
   "metadata": {},
   "outputs": [
    {
     "data": {
      "text/plain": [
       "tensor([[4.7070, 3.0368, 2.0501, 2.6538, 4.2286, 4.6933, 3.5773, 3.1712, 3.6083,\n",
       "         4.1027],\n",
       "        [3.0368, 3.0257, 1.3360, 1.8696, 3.3739, 3.3890, 2.3868, 2.3752, 2.7235,\n",
       "         2.9370],\n",
       "        [2.0501, 1.3360, 1.4516, 1.2106, 1.9884, 2.2206, 1.2493, 1.4858, 1.4559,\n",
       "         1.3992],\n",
       "        [2.6538, 1.8696, 1.2106, 2.0935, 2.6729, 2.9737, 1.8244, 2.1128, 2.2167,\n",
       "         2.6367],\n",
       "        [4.2286, 3.3739, 1.9884, 2.6729, 4.8589, 4.3680, 3.2838, 3.4792, 3.6747,\n",
       "         4.1584],\n",
       "        [4.6933, 3.3890, 2.2206, 2.9737, 4.3680, 5.3836, 3.6690, 3.3377, 3.8078,\n",
       "         4.3501],\n",
       "        [3.5773, 2.3868, 1.2493, 1.8244, 3.2838, 3.6690, 3.4327, 2.4550, 3.1159,\n",
       "         3.7747],\n",
       "        [3.1712, 2.3752, 1.4858, 2.1128, 3.4792, 3.3377, 2.4550, 3.0967, 2.9360,\n",
       "         3.4142],\n",
       "        [3.6083, 2.7235, 1.4559, 2.2167, 3.6747, 3.8078, 3.1159, 2.9360, 4.1917,\n",
       "         4.0746],\n",
       "        [4.1027, 2.9370, 1.3992, 2.6367, 4.1584, 4.3501, 3.7747, 3.4142, 4.0746,\n",
       "         4.8668]])"
      ]
     },
     "execution_count": 4,
     "metadata": {},
     "output_type": "execute_result"
    }
   ],
   "source": [
    "A = torch.rand(n, n)\n",
    "A = torch.matmul(A, torch.transpose(A, 0, 1))\n",
    "A"
   ]
  },
  {
   "cell_type": "code",
   "execution_count": 5,
   "metadata": {},
   "outputs": [],
   "source": [
    "evals, evecs = torch.linalg.eigh(A)"
   ]
  },
  {
   "cell_type": "code",
   "execution_count": 6,
   "metadata": {},
   "outputs": [
    {
     "data": {
      "text/plain": [
       "tensor([1.6088e-03, 4.9953e-02, 2.1735e-01, 3.2218e-01, 6.1596e-01, 6.7244e-01,\n",
       "        8.4980e-01, 1.1914e+00, 1.7715e+00, 3.1416e+01])"
      ]
     },
     "execution_count": 6,
     "metadata": {},
     "output_type": "execute_result"
    }
   ],
   "source": [
    "evals"
   ]
  },
  {
   "cell_type": "code",
   "execution_count": 7,
   "metadata": {},
   "outputs": [],
   "source": [
    "class from_evecs:\n",
    "\n",
    "    def __init__(self, n, f, evals, evecs):\n",
    "        self.n = n\n",
    "        self.f = f\n",
    "        self.evals = evals\n",
    "        self.evecs = torch.transpose(evecs, 0, 1)\n",
    "    \n",
    "    def __call__(self, t = 1):\n",
    "        sum = torch.eye(self.n, self.n)\n",
    "        for i in range(self.n):\n",
    "            sum += (self.f(t, self.evals[i]) - 1) * torch.outer(self.evecs[i], self.evecs[i])\n",
    "\n",
    "        return sum"
   ]
  },
  {
   "cell_type": "code",
   "execution_count": 8,
   "metadata": {},
   "outputs": [],
   "source": [
    "continous = from_evecs(10, lambda t, x: x ** t, evals, evecs)"
   ]
  },
  {
   "cell_type": "code",
   "execution_count": 9,
   "metadata": {},
   "outputs": [],
   "source": [
    "l = [continous(float(i)/10) for i in range(10)]\n",
    "dif = list(map(\n",
    "    lambda x: torch.sum(torch.mul(x, x)),\n",
    "    iter([l[i+1] - l[i] for i in range(9)])\n",
    "    ))"
   ]
  },
  {
   "cell_type": "code",
   "execution_count": 10,
   "metadata": {},
   "outputs": [
    {
     "data": {
      "text/plain": [
       "[tensor(0.5008),\n",
       " tensor(0.4684),\n",
       " tensor(0.7364),\n",
       " tensor(1.3785),\n",
       " tensor(2.6978),\n",
       " tensor(5.3435),\n",
       " tensor(10.6239),\n",
       " tensor(21.1503),\n",
       " tensor(42.1283)]"
      ]
     },
     "execution_count": 10,
     "metadata": {},
     "output_type": "execute_result"
    }
   ],
   "source": [
    "dif"
   ]
  },
  {
   "cell_type": "code",
   "execution_count": 21,
   "metadata": {},
   "outputs": [
    {
     "data": {
      "text/plain": [
       "tensor([[0.6844, 0.7816, 0.5170, 0.4198, 0.4086, 0.3769, 0.3312, 0.3246, 0.6116,\n",
       "         0.5388],\n",
       "        [0.7816, 0.9417, 0.3540, 0.6782, 0.5304, 0.4007, 0.6198, 0.5983, 0.6827,\n",
       "         0.1853],\n",
       "        [0.5170, 0.3540, 0.0360, 0.2320, 0.5782, 0.5626, 0.4022, 0.6020, 0.7561,\n",
       "         0.1121],\n",
       "        [0.4198, 0.6782, 0.2320, 0.9429, 0.6062, 0.3670, 0.2311, 0.8202, 0.5063,\n",
       "         0.2495],\n",
       "        [0.4086, 0.5304, 0.5782, 0.6062, 0.4176, 0.2129, 0.8638, 0.5840, 0.4110,\n",
       "         0.1900],\n",
       "        [0.3769, 0.4007, 0.5626, 0.3670, 0.2129, 0.0781, 0.6300, 0.2620, 0.2318,\n",
       "         0.5731],\n",
       "        [0.3312, 0.6198, 0.4022, 0.2311, 0.8638, 0.6300, 0.2339, 0.6016, 0.4375,\n",
       "         0.1265],\n",
       "        [0.3246, 0.5983, 0.6020, 0.8202, 0.5840, 0.2620, 0.6016, 0.2780, 0.7969,\n",
       "         0.6354],\n",
       "        [0.6116, 0.6827, 0.7561, 0.5063, 0.4110, 0.2318, 0.4375, 0.7969, 0.2403,\n",
       "         0.3346],\n",
       "        [0.5388, 0.1853, 0.1121, 0.2495, 0.1900, 0.5731, 0.1265, 0.6354, 0.3346,\n",
       "         0.9680]])"
      ]
     },
     "execution_count": 21,
     "metadata": {},
     "output_type": "execute_result"
    }
   ],
   "source": [
    "B = torch.rand(n, n)\n",
    "B = 0.5 * (B + torch.transpose(B, 0, 1)) #Make B symmetric to ensure real eigenvalues\n",
    "B"
   ]
  },
  {
   "cell_type": "code",
   "execution_count": 22,
   "metadata": {},
   "outputs": [],
   "source": [
    "evals, evecs = torch.linalg.eig(B)"
   ]
  },
  {
   "cell_type": "code",
   "execution_count": 23,
   "metadata": {},
   "outputs": [
    {
     "data": {
      "text/plain": [
       "tensor([ 4.8331e+00+0.j, -1.0794e+00+0.j,  1.0233e+00+0.j, -7.0753e-01+0.j,\n",
       "        -5.4662e-01+0.j,  6.3902e-01+0.j,  5.3702e-01+0.j,  1.9041e-01+0.j,\n",
       "         7.3563e-04+0.j, -6.9211e-02+0.j])"
      ]
     },
     "execution_count": 23,
     "metadata": {},
     "output_type": "execute_result"
    }
   ],
   "source": [
    "evals"
   ]
  },
  {
   "cell_type": "code",
   "execution_count": null,
   "metadata": {},
   "outputs": [],
   "source": [
    "\"\"\"\n",
    "    v                                                                                                                                                                                                                                                                                                                                                                                                                                                                                                                                                                                                                                                                                                                                                                                                                                                                                                                                                                                                                                                                                                                                                                                                                                                                                                                                                                                 \n",
    "\"\"\""
   ]
  }
 ],
 "metadata": {
  "kernelspec": {
   "display_name": "Python 3.10.4 64-bit",
   "language": "python",
   "name": "python3"
  },
  "language_info": {
   "codemirror_mode": {
    "name": "ipython",
    "version": 3
   },
   "file_extension": ".py",
   "mimetype": "text/x-python",
   "name": "python",
   "nbconvert_exporter": "python",
   "pygments_lexer": "ipython3",
   "version": "3.10.4"
  },
  "orig_nbformat": 4,
  "vscode": {
   "interpreter": {
    "hash": "916dbcbb3f70747c44a77c7bcd40155683ae19c65e1c03b4aa3499c5328201f1"
   }
  }
 },
 "nbformat": 4,
 "nbformat_minor": 2
}
